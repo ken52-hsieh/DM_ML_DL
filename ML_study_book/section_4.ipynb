{
 "cells": [
  {
   "cell_type": "markdown",
   "metadata": {},
   "source": [
    "### 精通機器學習 - 使用Scikit-Learn, Keras與TensorFlow. ver 2\n",
    "#### section 4-1 線性回歸 (linear regression)"
   ]
  },
  {
   "cell_type": "code",
   "execution_count": 20,
   "metadata": {},
   "outputs": [],
   "source": [
    "import numpy as np\n",
    "import matplotlib.pyplot as plt"
   ]
  },
  {
   "cell_type": "markdown",
   "metadata": {},
   "source": [
    "製作一些看起來線性的資料，用來測試方程式"
   ]
  },
  {
   "cell_type": "code",
   "execution_count": 27,
   "metadata": {},
   "outputs": [
    {
     "data": {
      "image/png": "[encoded data removed]",
      "text/plain": [
       "<Figure size 432x288 with 1 Axes>"
      ]
     },
     "metadata": {
      "needs_background": "light"
     },
     "output_type": "display_data"
    }
   ],
   "source": [
    "x= 2* np.random.rand(100, 1)\n",
    "y= 4+ 3* x+ np.random.randn(100, 1)\n",
    "\n",
    "# graph draw\n",
    "fig = plt.figure()\n",
    "ax= fig.add_subplot(111)\n",
    "ax.plot(x, y, \"o\",color= \"red\")\n",
    "ax.set_xlabel(\"x1\")\n",
    "ax.set_ylabel(\"y\")\n",
    "plt.show()"
   ]
  },
  {
   "cell_type": "markdown",
   "metadata": {},
   "source": [
    "設定一線性回歸模型:  \n",
    "$\\hat{y} = \\theta_{0}+\\theta_{1}x_{1}+\\theta_{2}x_{2}+...+\\theta_{n}x_{n}$\n",
    "<br>\n",
    "\n",
    "此模型預測結果與真實數據的擬和誤差可以用RMSE計算, 另外求一 $\\theta$讓模型誤差最小化時, 可改用MSE, 計算較簡單快速  \n",
    "(可將函數最小化的值, 也可將函數的平方根最小化!)\n",
    "<br>\n",
    "\n",
    "$MSE(X,h_{\\theta}) = \\frac{1}{m}\\sum_{i=1}^{m} {(\\theta^{\\mathrm T}x^{(i)}-y^{(i)})^2}$\n",
    "<br>\n"
   ]
  },
  {
   "cell_type": "markdown",
   "metadata": {},
   "source": [
    "求解方案一. **正規方程式求$\\theta$**  \n",
    "封閉式解決方案，可以直接用公式算出結果  \n",
    "$\\hat{\\theta} = (X^{\\mathrm T}X)^{-1}X^{\\mathrm T}y $"
   ]
  },
  {
   "cell_type": "code",
   "execution_count": 22,
   "metadata": {},
   "outputs": [
    {
     "name": "stdout",
     "output_type": "stream",
     "text": [
      "(100, 1)\n",
      "(100, 2)\n",
      "----------------\n",
      "[[4.04382012]\n",
      " [2.94010399]]\n"
     ]
    }
   ],
   "source": [
    "x_b= np.c_[np.ones((100, 1)), x] #為每個實例加上 x0 = 1\n",
    "print(x.shape)\n",
    "print(x_b.shape)\n",
    "print('----------------')\n",
    "\n",
    "# 正規方程式計算\n",
    "theta_best= np.linalg.inv(x_b.T.dot(x_b)).dot(x_b.T).dot(y)\n",
    "print(theta_best)"
   ]
  },
  {
   "cell_type": "markdown",
   "metadata": {},
   "source": [
    "計算所得的 $\\theta$ 數值與線性數據設定的不同, 主要是因為noise影響  \n",
    "依據算出結果繪圖觀察"
   ]
  },
  {
   "cell_type": "code",
   "execution_count": 25,
   "metadata": {},
   "outputs": [
    {
     "data": {
      "image/png": "[encoded data removed]",
      "text/plain": [
       "<Figure size 432x288 with 1 Axes>"
      ]
     },
     "metadata": {
      "needs_background": "light"
     },
     "output_type": "display_data"
    }
   ],
   "source": [
    "y2= theta_best[0]+ theta_best[1]*x\n",
    "\n",
    "# graph draw\n",
    "plt.plot(x, y, \"o\",color= \"red\")\n",
    "plt.plot(x, y2, color= \"blue\")\n",
    "\n",
    "plt.xlabel(\"x1\")\n",
    "plt.ylabel(\"y\")\n",
    "plt.show()"
   ]
  },
  {
   "cell_type": "markdown",
   "metadata": {},
   "source": [
    "求解方案二. Error based learning method  \n",
    "透過不斷的將誤差反向傳播(Backpropagation)疊代修正參數的作法, 得到 $\\theta$ 值"
   ]
  },
  {
   "cell_type": "code",
   "execution_count": null,
   "metadata": {},
   "outputs": [],
   "source": []
  }
 ],
 "metadata": {
  "interpreter": {
   "hash": "f03461656e1d7e6907ab645c14e6c0733eea6b75646e926796554750ad814e17"
  },
  "kernelspec": {
   "display_name": "Python 3.8.12 ('pycode')",
   "language": "python",
   "name": "python3"
  },
  "language_info": {
   "codemirror_mode": {
    "name": "ipython",
    "version": 3
   },
   "file_extension": ".py",
   "mimetype": "text/x-python",
   "name": "python",
   "nbconvert_exporter": "python",
   "pygments_lexer": "ipython3",
   "version": "3.8.12"
  },
  "orig_nbformat": 4
 },
 "nbformat": 4,
 "nbformat_minor": 2
}
